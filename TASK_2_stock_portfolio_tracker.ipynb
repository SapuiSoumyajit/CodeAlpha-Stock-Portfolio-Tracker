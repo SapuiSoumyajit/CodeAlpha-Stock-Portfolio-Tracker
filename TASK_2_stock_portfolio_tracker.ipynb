{
  "nbformat": 4,
  "nbformat_minor": 0,
  "metadata": {
    "colab": {
      "provenance": [],
      "authorship_tag": "ABX9TyN1Z5mvMdxvt8aOIdP0D8Sp"
    },
    "kernelspec": {
      "name": "python3",
      "display_name": "Python 3"
    },
    "language_info": {
      "name": "python"
    }
  },
  "cells": [
    {
      "cell_type": "code",
      "execution_count": null,
      "metadata": {
        "colab": {
          "base_uri": "https://localhost:8080/"
        },
        "id": "73YtyQCP-nac",
        "outputId": "b98ef153-4da2-4e43-925d-57b3fe256240"
      },
      "outputs": [
        {
          "output_type": "stream",
          "name": "stdout",
          "text": [
            "Welcome to the Stock Tracker!\n",
            "Available stocks: AAPL, TSLA, GOOG, AMZN, MSFT\n",
            "Type 'done' when finished entering stocks.\n",
            "\n",
            "Enter stock symbol: aapl\n",
            "Enter quantity of AAPL: 180\n",
            "Enter stock symbol: TSLA\n",
            "Enter quantity of TSLA: 250\n",
            "Enter stock symbol: GOOG\n",
            "Enter quantity of GOOG: 2750\n",
            "Enter stock symbol: AMZN\n",
            "Enter quantity of AMZN: 135\n",
            "Enter stock symbol: MSFT\n",
            "Enter quantity of MSFT: 320\n",
            "Enter stock symbol: DONE\n",
            "\n",
            "Investment Summary:\n",
            "AAPL - Qty: 180, Price: $180, Value: $32400\n",
            "TSLA - Qty: 250, Price: $250, Value: $62500\n",
            "GOOG - Qty: 2750, Price: $2750, Value: $7562500\n",
            "AMZN - Qty: 135, Price: $135, Value: $18225\n",
            "MSFT - Qty: 320, Price: $320, Value: $102400\n",
            "\n",
            "Total Investment: $7778025\n",
            "\n",
            "Do you want to save the result to a file? (yes/no): YES\n",
            "Summary saved to investment_summary.txt\n"
          ]
        }
      ],
      "source": [
        "# Hardcoded stock prices\n",
        "stock_prices = {\n",
        "    \"AAPL\": 180,\n",
        "    \"TSLA\": 250,\n",
        "    \"GOOG\": 2750,\n",
        "    \"AMZN\": 135,\n",
        "    \"MSFT\": 320\n",
        "}\n",
        "\n",
        "# Dictionary to store user's stocks and quantities\n",
        "user_stocks = {}\n",
        "\n",
        "# Input loop\n",
        "print(\"Welcome to the Stock Tracker!\")\n",
        "print(\"Available stocks:\", ', '.join(stock_prices.keys()))\n",
        "print(\"Type 'done' when finished entering stocks.\\n\")\n",
        "\n",
        "while True:\n",
        "    stock = input(\"Enter stock symbol: \").upper()\n",
        "    if stock == \"DONE\":\n",
        "        break\n",
        "    if stock not in stock_prices:\n",
        "        print(\"Stock not recognized. Try again.\")\n",
        "        continue\n",
        "    try:\n",
        "        qty = int(input(f\"Enter quantity of {stock}: \"))\n",
        "        if qty < 0:\n",
        "            print(\"Quantity must be positive.\")\n",
        "            continue\n",
        "        user_stocks[stock] = user_stocks.get(stock, 0) + qty\n",
        "    except ValueError:\n",
        "        print(\"Invalid quantity. Enter a number.\")\n",
        "\n",
        "# Calculate total investment\n",
        "total_investment = 0\n",
        "print(\"\\nInvestment Summary:\")\n",
        "for stock, qty in user_stocks.items():\n",
        "    price = stock_prices[stock]\n",
        "    value = price * qty\n",
        "    total_investment += value\n",
        "    print(f\"{stock} - Qty: {qty}, Price: ${price}, Value: ${value}\")\n",
        "\n",
        "print(f\"\\nTotal Investment: ${total_investment}\")\n",
        "\n",
        "# Optionally save to a file\n",
        "save = input(\"\\nDo you want to save the result to a file? (yes/no): \").lower()\n",
        "if save == \"yes\":\n",
        "    filename = \"investment_summary.txt\"\n",
        "    with open(filename, \"w\") as file:\n",
        "        file.write(\"Investment Summary:\\n\")\n",
        "        for stock, qty in user_stocks.items():\n",
        "            price = stock_prices[stock]\n",
        "            value = price * qty\n",
        "            file.write(f\"{stock} - Qty: {qty}, Price: ${price}, Value: ${value}\\n\")\n",
        "        file.write(f\"\\nTotal Investment: ${total_investment}\\n\")\n",
        "    print(f\"Summary saved to {filename}\")\n"
      ]
    }
  ]
}